{
  "nbformat": 4,
  "nbformat_minor": 0,
  "metadata": {
    "colab": {
      "name": "Install Askdata SDK from Bitbucket",
      "provenance": [],
      "collapsed_sections": [],
      "authorship_tag": "ABX9TyNFjmUHxZwQOv/szYmy29XP",
      "include_colab_link": true
    },
    "kernelspec": {
      "name": "python3",
      "display_name": "Python 3"
    }
  },
  "cells": [
    {
      "cell_type": "markdown",
      "metadata": {
        "id": "view-in-github",
        "colab_type": "text"
      },
      "source": [
        "<a href=\"https://colab.research.google.com/github/AskdataHQ/askdata-docs/blob/gh-pages/notebooks/Askdata%20-%20Create%20a%20new%20agent.ipynb\" target=\"_parent\"><img src=\"https://colab.research.google.com/assets/colab-badge.svg\" alt=\"Open In Colab\"/></a>"
      ]
    },
    {
      "cell_type": "code",
      "metadata": {
        "id": "agctZ8erDUqr",
        "colab_type": "code",
        "colab": {}
      },
      "source": [
        "# Install Askdata\n",
        "!pip install askdata\n",
        "\n",
        "# Initialize the Askdata library\n",
        "import askdata as ad\n",
        "from askdata.askdata_client import Askdata, Agent"
      ],
      "execution_count": 0,
      "outputs": []
    },
    {
      "cell_type": "code",
      "metadata": {
        "id": "ifFsZtUqJFOa",
        "colab_type": "code",
        "colab": {}
      },
      "source": [
        "# Authentication\n",
        "print(\"Enter your Askdata user and password. If you don't have an account create that from here:\")\n",
        "print(\"https://app.askdata.com/signup\")\n",
        "askdata = Askdata()"
      ],
      "execution_count": 0,
      "outputs": []
    },
    {
      "cell_type": "code",
      "metadata": {
        "id": "sAt0dELPfFCS",
        "colab_type": "code",
        "colab": {}
      },
      "source": [
        "askdata.agents_dataframe()"
      ],
      "execution_count": 0,
      "outputs": []
    },
    {
      "cell_type": "code",
      "metadata": {
        "id": "xTXKwbTBJZPc",
        "colab_type": "code",
        "outputId": "dc532b40-94ff-47e5-cde3-ec77ab2299c8",
        "colab": {
          "base_uri": "https://localhost:8080/",
          "height": 34
        }
      },
      "source": [
        "# Create a new Askdata agent. This is the repository of the knowledge you can query.\n",
        "agent_name = 'Peppe Agent'\n",
        "askdata.create_agent(agent_name)"
      ],
      "execution_count": 0,
      "outputs": [
        {
          "output_type": "execute_result",
          "data": {
            "text/plain": [
              "<Response [200]>"
            ]
          },
          "metadata": {
            "tags": []
          },
          "execution_count": 18
        }
      ]
    },
    {
      "cell_type": "code",
      "metadata": {
        "id": "7YwJoPtaGbnf",
        "colab_type": "code",
        "colab": {}
      },
      "source": [
        "# Get that agent that we've created\n",
        "agent = Agent(askdata, agent_name)"
      ],
      "execution_count": 0,
      "outputs": []
    },
    {
      "cell_type": "code",
      "metadata": {
        "id": "D4mAmvHkMr3r",
        "colab_type": "code",
        "colab": {}
      },
      "source": [
        "# Let's load some data and put in a dataframe\n",
        "import pandas as pd\n",
        "worldPoliciesURL = 'https://raw.githubusercontent.com/OxCGRT/covid-policy-tracker/master/data/OxCGRT_latest.csv'\n",
        "dfWorldPolicies = pd.read_csv(worldPoliciesURL, error_bad_lines=False)\n",
        "df_to_save = dfWorldPolicies[['CountryName','CountryCode','Date','StringencyIndex']].rename(\n",
        "    columns={'CountryName':'Country_Name','CountryCode':'Country_Code','StringencyIndex':'Stringency_Index'})"
      ],
      "execution_count": 0,
      "outputs": []
    },
    {
      "cell_type": "code",
      "metadata": {
        "id": "wyAu1jT-MQfw",
        "colab_type": "code",
        "colab": {}
      },
      "source": [
        "# Let's save the dataframe as an agent dataset, linking that to the agent that we've previously created \n",
        "agent.save_to_dataset(frame=df_to_save, dataset_name='Oxford C19GS Tracker')"
      ],
      "execution_count": 0,
      "outputs": []
    },
    {
      "cell_type": "code",
      "metadata": {
        "id": "1aYSl7T7NM5E",
        "colab_type": "code",
        "colab": {}
      },
      "source": [
        "# Now we can Ask data related questions to our agent coherently with the dataset we've previously connected\n",
        "agent.ask(\"get me stringency index by countries\")"
      ],
      "execution_count": 0,
      "outputs": []
    }
  ]
}
